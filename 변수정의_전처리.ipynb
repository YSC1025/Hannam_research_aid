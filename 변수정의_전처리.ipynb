{
  "nbformat": 4,
  "nbformat_minor": 0,
  "metadata": {
    "colab": {
      "provenance": []
    },
    "kernelspec": {
      "name": "python3",
      "display_name": "Python 3"
    },
    "language_info": {
      "name": "python"
    }
  },
  "cells": [
    {
      "cell_type": "code",
      "execution_count": null,
      "metadata": {
        "id": "_90LdORkQPBK"
      },
      "outputs": [],
      "source": [
        "import pandas as pd"
      ]
    },
    {
      "cell_type": "code",
      "source": [
        "# 엑셀 파일 불러오기\n",
        "file_path = '/content/test1.xlsx'\n",
        "\n",
        "data = pd.read_excel(file_path)\n",
        "data"
      ],
      "metadata": {
        "colab": {
          "base_uri": "https://localhost:8080/",
          "height": 1000
        },
        "id": "nbqPBR3MQfMX",
        "outputId": "21601486-4911-48fa-cfbf-0a39d49b0ba8"
      },
      "execution_count": null,
      "outputs": [
        {
          "output_type": "execute_result",
          "data": {
            "text/plain": [
              "      연령대  성별 동/읍면 구분 가구소득_(월)금액 주관적 건강수준      일반담배(궐련) 현재흡연 여부 평생 음주 여부  \\\n",
              "0      중년  여자     읍·면        300       좋음                   비해당        예   \n",
              "1      장년  여자     읍·면        300       좋음                   비해당        예   \n",
              "2      중년  남자     읍·면        300       좋음                매일 피운다        예   \n",
              "3      노년  여자     읍·면      88888       좋음                   비해당      아니오   \n",
              "4      중년  남자     읍·면      88888       좋음                   비해당        예   \n",
              "...    ..  ..     ...        ...      ...                   ...      ...   \n",
              "12426  장년  여자     읍·면         90    매우 나쁨                   비해당        예   \n",
              "12427  노년  여자     읍·면         57       나쁨                   비해당        예   \n",
              "12428  노년  여자     읍·면        250       좋음                   비해당        예   \n",
              "12429  장년  여자     읍·면        300    매우 좋음                   비해당      아니오   \n",
              "12430  노년  남자     읍·면        300    매우 좋음  과거에는 피웠으나 현재 피우지 않는다        예   \n",
              "\n",
              "      걷기 실천 일수 BMI(판정기준) 뇌졸중(중풍) 조기증상 인지_팔다리 힘빠짐  ... 심근경색증 조기증상 인지_팔,어깨통증  \\\n",
              "0            5    1단계 비만                     아니오  ...                  아니오   \n",
              "1            5    1단계 비만                     아니오  ...                  아니오   \n",
              "2            5    2단계 비만                       예  ...                    예   \n",
              "3            7     비만전단계                     아니오  ...                  아니오   \n",
              "4            7    1단계 비만                       예  ...                  아니오   \n",
              "...        ...       ...                     ...  ...                  ...   \n",
              "12426        4       저체중                       예  ...                  아니오   \n",
              "12427        3    3단계 비만                       예  ...                  아니오   \n",
              "12428        4    1단계 비만                       예  ...                  아니오   \n",
              "12429        5    1단계 비만                       예  ...                    예   \n",
              "12430        3     비만전단계                       예  ...                    예   \n",
              "\n",
              "      심근경색증 조기증상 인지_숨이참 주관적 스트레스 수준 우울감 경험 여부 검진군/비검진군 판단 혈압수치 인지 여부  \\\n",
              "0                   아니오  조금 느끼는 편이다       아니오         검진군          예   \n",
              "1                   아니오  거의 느끼지 않는다       아니오         검진군          예   \n",
              "2                     예  많이 느끼는 편이다       아니오         검진군          예   \n",
              "3                   아니오  거의 느끼지 않는다       아니오         검진군        아니오   \n",
              "4                     예  조금 느끼는 편이다       아니오         검진군        아니오   \n",
              "...                 ...         ...       ...         ...        ...   \n",
              "12426                 예  조금 느끼는 편이다       아니오        비검진군          예   \n",
              "12427                 예  많이 느끼는 편이다       아니오        비검진군        아니오   \n",
              "12428                 예  조금 느끼는 편이다       아니오        비검진군          예   \n",
              "12429                 예  조금 느끼는 편이다       아니오         검진군          예   \n",
              "12430                 예  조금 느끼는 편이다       아니오        비검진군          예   \n",
              "\n",
              "      혈당수치 인지 여부   교육 수준    직업분류(재분류)                  혼인 상태  \n",
              "0            아니오    고등학교   비해당(문항2/②)      배우자 있으며, 함께 살고 있다  \n",
              "1              예    초등학교   비해당(문항2/②)       배우자 사망으로 배우자가 없다  \n",
              "2            아니오    고등학교    농·임·어업종사자      배우자 있으며, 함께 살고 있다  \n",
              "3            아니오    초등학교   비해당(문항2/②)       배우자 사망으로 배우자가 없다  \n",
              "4              예    고등학교    농·임·어업종사자           미혼으로 배우자가 없다  \n",
              "...          ...     ...          ...                    ...  \n",
              "12426        아니오    고등학교   비해당(문항2/②)      배우자 있으며, 함께 살고 있다  \n",
              "12427        아니오      무학      단순노무종사자       배우자 사망으로 배우자가 없다  \n",
              "12428          예     중학교   비해당(문항2/②)       배우자 사망으로 배우자가 없다  \n",
              "12429        아니오  4년제 대학  전문가 및 관련종사자  배우자 있으나, 함께 살고 있지 않는다  \n",
              "12430        아니오    고등학교      단순노무종사자      배우자 있으며, 함께 살고 있다  \n",
              "\n",
              "[12431 rows x 27 columns]"
            ],
            "text/html": [
              "\n",
              "  <div id=\"df-8b0e0dea-ca40-4968-be8a-64e97bfdedf3\" class=\"colab-df-container\">\n",
              "    <div>\n",
              "<style scoped>\n",
              "    .dataframe tbody tr th:only-of-type {\n",
              "        vertical-align: middle;\n",
              "    }\n",
              "\n",
              "    .dataframe tbody tr th {\n",
              "        vertical-align: top;\n",
              "    }\n",
              "\n",
              "    .dataframe thead th {\n",
              "        text-align: right;\n",
              "    }\n",
              "</style>\n",
              "<table border=\"1\" class=\"dataframe\">\n",
              "  <thead>\n",
              "    <tr style=\"text-align: right;\">\n",
              "      <th></th>\n",
              "      <th>연령대</th>\n",
              "      <th>성별</th>\n",
              "      <th>동/읍면 구분</th>\n",
              "      <th>가구소득_(월)금액</th>\n",
              "      <th>주관적 건강수준</th>\n",
              "      <th>일반담배(궐련) 현재흡연 여부</th>\n",
              "      <th>평생 음주 여부</th>\n",
              "      <th>걷기 실천 일수</th>\n",
              "      <th>BMI(판정기준)</th>\n",
              "      <th>뇌졸중(중풍) 조기증상 인지_팔다리 힘빠짐</th>\n",
              "      <th>...</th>\n",
              "      <th>심근경색증 조기증상 인지_팔,어깨통증</th>\n",
              "      <th>심근경색증 조기증상 인지_숨이참</th>\n",
              "      <th>주관적 스트레스 수준</th>\n",
              "      <th>우울감 경험 여부</th>\n",
              "      <th>검진군/비검진군 판단</th>\n",
              "      <th>혈압수치 인지 여부</th>\n",
              "      <th>혈당수치 인지 여부</th>\n",
              "      <th>교육 수준</th>\n",
              "      <th>직업분류(재분류)</th>\n",
              "      <th>혼인 상태</th>\n",
              "    </tr>\n",
              "  </thead>\n",
              "  <tbody>\n",
              "    <tr>\n",
              "      <th>0</th>\n",
              "      <td>중년</td>\n",
              "      <td>여자</td>\n",
              "      <td>읍·면</td>\n",
              "      <td>300</td>\n",
              "      <td>좋음</td>\n",
              "      <td>비해당</td>\n",
              "      <td>예</td>\n",
              "      <td>5</td>\n",
              "      <td>1단계 비만</td>\n",
              "      <td>아니오</td>\n",
              "      <td>...</td>\n",
              "      <td>아니오</td>\n",
              "      <td>아니오</td>\n",
              "      <td>조금 느끼는 편이다</td>\n",
              "      <td>아니오</td>\n",
              "      <td>검진군</td>\n",
              "      <td>예</td>\n",
              "      <td>아니오</td>\n",
              "      <td>고등학교</td>\n",
              "      <td>비해당(문항2/②)</td>\n",
              "      <td>배우자 있으며, 함께 살고 있다</td>\n",
              "    </tr>\n",
              "    <tr>\n",
              "      <th>1</th>\n",
              "      <td>장년</td>\n",
              "      <td>여자</td>\n",
              "      <td>읍·면</td>\n",
              "      <td>300</td>\n",
              "      <td>좋음</td>\n",
              "      <td>비해당</td>\n",
              "      <td>예</td>\n",
              "      <td>5</td>\n",
              "      <td>1단계 비만</td>\n",
              "      <td>아니오</td>\n",
              "      <td>...</td>\n",
              "      <td>아니오</td>\n",
              "      <td>아니오</td>\n",
              "      <td>거의 느끼지 않는다</td>\n",
              "      <td>아니오</td>\n",
              "      <td>검진군</td>\n",
              "      <td>예</td>\n",
              "      <td>예</td>\n",
              "      <td>초등학교</td>\n",
              "      <td>비해당(문항2/②)</td>\n",
              "      <td>배우자 사망으로 배우자가 없다</td>\n",
              "    </tr>\n",
              "    <tr>\n",
              "      <th>2</th>\n",
              "      <td>중년</td>\n",
              "      <td>남자</td>\n",
              "      <td>읍·면</td>\n",
              "      <td>300</td>\n",
              "      <td>좋음</td>\n",
              "      <td>매일 피운다</td>\n",
              "      <td>예</td>\n",
              "      <td>5</td>\n",
              "      <td>2단계 비만</td>\n",
              "      <td>예</td>\n",
              "      <td>...</td>\n",
              "      <td>예</td>\n",
              "      <td>예</td>\n",
              "      <td>많이 느끼는 편이다</td>\n",
              "      <td>아니오</td>\n",
              "      <td>검진군</td>\n",
              "      <td>예</td>\n",
              "      <td>아니오</td>\n",
              "      <td>고등학교</td>\n",
              "      <td>농·임·어업종사자</td>\n",
              "      <td>배우자 있으며, 함께 살고 있다</td>\n",
              "    </tr>\n",
              "    <tr>\n",
              "      <th>3</th>\n",
              "      <td>노년</td>\n",
              "      <td>여자</td>\n",
              "      <td>읍·면</td>\n",
              "      <td>88888</td>\n",
              "      <td>좋음</td>\n",
              "      <td>비해당</td>\n",
              "      <td>아니오</td>\n",
              "      <td>7</td>\n",
              "      <td>비만전단계</td>\n",
              "      <td>아니오</td>\n",
              "      <td>...</td>\n",
              "      <td>아니오</td>\n",
              "      <td>아니오</td>\n",
              "      <td>거의 느끼지 않는다</td>\n",
              "      <td>아니오</td>\n",
              "      <td>검진군</td>\n",
              "      <td>아니오</td>\n",
              "      <td>아니오</td>\n",
              "      <td>초등학교</td>\n",
              "      <td>비해당(문항2/②)</td>\n",
              "      <td>배우자 사망으로 배우자가 없다</td>\n",
              "    </tr>\n",
              "    <tr>\n",
              "      <th>4</th>\n",
              "      <td>중년</td>\n",
              "      <td>남자</td>\n",
              "      <td>읍·면</td>\n",
              "      <td>88888</td>\n",
              "      <td>좋음</td>\n",
              "      <td>비해당</td>\n",
              "      <td>예</td>\n",
              "      <td>7</td>\n",
              "      <td>1단계 비만</td>\n",
              "      <td>예</td>\n",
              "      <td>...</td>\n",
              "      <td>아니오</td>\n",
              "      <td>예</td>\n",
              "      <td>조금 느끼는 편이다</td>\n",
              "      <td>아니오</td>\n",
              "      <td>검진군</td>\n",
              "      <td>아니오</td>\n",
              "      <td>예</td>\n",
              "      <td>고등학교</td>\n",
              "      <td>농·임·어업종사자</td>\n",
              "      <td>미혼으로 배우자가 없다</td>\n",
              "    </tr>\n",
              "    <tr>\n",
              "      <th>...</th>\n",
              "      <td>...</td>\n",
              "      <td>...</td>\n",
              "      <td>...</td>\n",
              "      <td>...</td>\n",
              "      <td>...</td>\n",
              "      <td>...</td>\n",
              "      <td>...</td>\n",
              "      <td>...</td>\n",
              "      <td>...</td>\n",
              "      <td>...</td>\n",
              "      <td>...</td>\n",
              "      <td>...</td>\n",
              "      <td>...</td>\n",
              "      <td>...</td>\n",
              "      <td>...</td>\n",
              "      <td>...</td>\n",
              "      <td>...</td>\n",
              "      <td>...</td>\n",
              "      <td>...</td>\n",
              "      <td>...</td>\n",
              "      <td>...</td>\n",
              "    </tr>\n",
              "    <tr>\n",
              "      <th>12426</th>\n",
              "      <td>장년</td>\n",
              "      <td>여자</td>\n",
              "      <td>읍·면</td>\n",
              "      <td>90</td>\n",
              "      <td>매우 나쁨</td>\n",
              "      <td>비해당</td>\n",
              "      <td>예</td>\n",
              "      <td>4</td>\n",
              "      <td>저체중</td>\n",
              "      <td>예</td>\n",
              "      <td>...</td>\n",
              "      <td>아니오</td>\n",
              "      <td>예</td>\n",
              "      <td>조금 느끼는 편이다</td>\n",
              "      <td>아니오</td>\n",
              "      <td>비검진군</td>\n",
              "      <td>예</td>\n",
              "      <td>아니오</td>\n",
              "      <td>고등학교</td>\n",
              "      <td>비해당(문항2/②)</td>\n",
              "      <td>배우자 있으며, 함께 살고 있다</td>\n",
              "    </tr>\n",
              "    <tr>\n",
              "      <th>12427</th>\n",
              "      <td>노년</td>\n",
              "      <td>여자</td>\n",
              "      <td>읍·면</td>\n",
              "      <td>57</td>\n",
              "      <td>나쁨</td>\n",
              "      <td>비해당</td>\n",
              "      <td>예</td>\n",
              "      <td>3</td>\n",
              "      <td>3단계 비만</td>\n",
              "      <td>예</td>\n",
              "      <td>...</td>\n",
              "      <td>아니오</td>\n",
              "      <td>예</td>\n",
              "      <td>많이 느끼는 편이다</td>\n",
              "      <td>아니오</td>\n",
              "      <td>비검진군</td>\n",
              "      <td>아니오</td>\n",
              "      <td>아니오</td>\n",
              "      <td>무학</td>\n",
              "      <td>단순노무종사자</td>\n",
              "      <td>배우자 사망으로 배우자가 없다</td>\n",
              "    </tr>\n",
              "    <tr>\n",
              "      <th>12428</th>\n",
              "      <td>노년</td>\n",
              "      <td>여자</td>\n",
              "      <td>읍·면</td>\n",
              "      <td>250</td>\n",
              "      <td>좋음</td>\n",
              "      <td>비해당</td>\n",
              "      <td>예</td>\n",
              "      <td>4</td>\n",
              "      <td>1단계 비만</td>\n",
              "      <td>예</td>\n",
              "      <td>...</td>\n",
              "      <td>아니오</td>\n",
              "      <td>예</td>\n",
              "      <td>조금 느끼는 편이다</td>\n",
              "      <td>아니오</td>\n",
              "      <td>비검진군</td>\n",
              "      <td>예</td>\n",
              "      <td>예</td>\n",
              "      <td>중학교</td>\n",
              "      <td>비해당(문항2/②)</td>\n",
              "      <td>배우자 사망으로 배우자가 없다</td>\n",
              "    </tr>\n",
              "    <tr>\n",
              "      <th>12429</th>\n",
              "      <td>장년</td>\n",
              "      <td>여자</td>\n",
              "      <td>읍·면</td>\n",
              "      <td>300</td>\n",
              "      <td>매우 좋음</td>\n",
              "      <td>비해당</td>\n",
              "      <td>아니오</td>\n",
              "      <td>5</td>\n",
              "      <td>1단계 비만</td>\n",
              "      <td>예</td>\n",
              "      <td>...</td>\n",
              "      <td>예</td>\n",
              "      <td>예</td>\n",
              "      <td>조금 느끼는 편이다</td>\n",
              "      <td>아니오</td>\n",
              "      <td>검진군</td>\n",
              "      <td>예</td>\n",
              "      <td>아니오</td>\n",
              "      <td>4년제 대학</td>\n",
              "      <td>전문가 및 관련종사자</td>\n",
              "      <td>배우자 있으나, 함께 살고 있지 않는다</td>\n",
              "    </tr>\n",
              "    <tr>\n",
              "      <th>12430</th>\n",
              "      <td>노년</td>\n",
              "      <td>남자</td>\n",
              "      <td>읍·면</td>\n",
              "      <td>300</td>\n",
              "      <td>매우 좋음</td>\n",
              "      <td>과거에는 피웠으나 현재 피우지 않는다</td>\n",
              "      <td>예</td>\n",
              "      <td>3</td>\n",
              "      <td>비만전단계</td>\n",
              "      <td>예</td>\n",
              "      <td>...</td>\n",
              "      <td>예</td>\n",
              "      <td>예</td>\n",
              "      <td>조금 느끼는 편이다</td>\n",
              "      <td>아니오</td>\n",
              "      <td>비검진군</td>\n",
              "      <td>예</td>\n",
              "      <td>아니오</td>\n",
              "      <td>고등학교</td>\n",
              "      <td>단순노무종사자</td>\n",
              "      <td>배우자 있으며, 함께 살고 있다</td>\n",
              "    </tr>\n",
              "  </tbody>\n",
              "</table>\n",
              "<p>12431 rows × 27 columns</p>\n",
              "</div>\n",
              "    <div class=\"colab-df-buttons\">\n",
              "\n",
              "  <div class=\"colab-df-container\">\n",
              "    <button class=\"colab-df-convert\" onclick=\"convertToInteractive('df-8b0e0dea-ca40-4968-be8a-64e97bfdedf3')\"\n",
              "            title=\"Convert this dataframe to an interactive table.\"\n",
              "            style=\"display:none;\">\n",
              "\n",
              "  <svg xmlns=\"http://www.w3.org/2000/svg\" height=\"24px\" viewBox=\"0 -960 960 960\">\n",
              "    <path d=\"M120-120v-720h720v720H120Zm60-500h600v-160H180v160Zm220 220h160v-160H400v160Zm0 220h160v-160H400v160ZM180-400h160v-160H180v160Zm440 0h160v-160H620v160ZM180-180h160v-160H180v160Zm440 0h160v-160H620v160Z\"/>\n",
              "  </svg>\n",
              "    </button>\n",
              "\n",
              "  <style>\n",
              "    .colab-df-container {\n",
              "      display:flex;\n",
              "      gap: 12px;\n",
              "    }\n",
              "\n",
              "    .colab-df-convert {\n",
              "      background-color: #E8F0FE;\n",
              "      border: none;\n",
              "      border-radius: 50%;\n",
              "      cursor: pointer;\n",
              "      display: none;\n",
              "      fill: #1967D2;\n",
              "      height: 32px;\n",
              "      padding: 0 0 0 0;\n",
              "      width: 32px;\n",
              "    }\n",
              "\n",
              "    .colab-df-convert:hover {\n",
              "      background-color: #E2EBFA;\n",
              "      box-shadow: 0px 1px 2px rgba(60, 64, 67, 0.3), 0px 1px 3px 1px rgba(60, 64, 67, 0.15);\n",
              "      fill: #174EA6;\n",
              "    }\n",
              "\n",
              "    .colab-df-buttons div {\n",
              "      margin-bottom: 4px;\n",
              "    }\n",
              "\n",
              "    [theme=dark] .colab-df-convert {\n",
              "      background-color: #3B4455;\n",
              "      fill: #D2E3FC;\n",
              "    }\n",
              "\n",
              "    [theme=dark] .colab-df-convert:hover {\n",
              "      background-color: #434B5C;\n",
              "      box-shadow: 0px 1px 3px 1px rgba(0, 0, 0, 0.15);\n",
              "      filter: drop-shadow(0px 1px 2px rgba(0, 0, 0, 0.3));\n",
              "      fill: #FFFFFF;\n",
              "    }\n",
              "  </style>\n",
              "\n",
              "    <script>\n",
              "      const buttonEl =\n",
              "        document.querySelector('#df-8b0e0dea-ca40-4968-be8a-64e97bfdedf3 button.colab-df-convert');\n",
              "      buttonEl.style.display =\n",
              "        google.colab.kernel.accessAllowed ? 'block' : 'none';\n",
              "\n",
              "      async function convertToInteractive(key) {\n",
              "        const element = document.querySelector('#df-8b0e0dea-ca40-4968-be8a-64e97bfdedf3');\n",
              "        const dataTable =\n",
              "          await google.colab.kernel.invokeFunction('convertToInteractive',\n",
              "                                                    [key], {});\n",
              "        if (!dataTable) return;\n",
              "\n",
              "        const docLinkHtml = 'Like what you see? Visit the ' +\n",
              "          '<a target=\"_blank\" href=https://colab.research.google.com/notebooks/data_table.ipynb>data table notebook</a>'\n",
              "          + ' to learn more about interactive tables.';\n",
              "        element.innerHTML = '';\n",
              "        dataTable['output_type'] = 'display_data';\n",
              "        await google.colab.output.renderOutput(dataTable, element);\n",
              "        const docLink = document.createElement('div');\n",
              "        docLink.innerHTML = docLinkHtml;\n",
              "        element.appendChild(docLink);\n",
              "      }\n",
              "    </script>\n",
              "  </div>\n",
              "\n",
              "\n",
              "<div id=\"df-f978f101-e89b-44a5-93a5-18ecb3c606ff\">\n",
              "  <button class=\"colab-df-quickchart\" onclick=\"quickchart('df-f978f101-e89b-44a5-93a5-18ecb3c606ff')\"\n",
              "            title=\"Suggest charts\"\n",
              "            style=\"display:none;\">\n",
              "\n",
              "<svg xmlns=\"http://www.w3.org/2000/svg\" height=\"24px\"viewBox=\"0 0 24 24\"\n",
              "     width=\"24px\">\n",
              "    <g>\n",
              "        <path d=\"M19 3H5c-1.1 0-2 .9-2 2v14c0 1.1.9 2 2 2h14c1.1 0 2-.9 2-2V5c0-1.1-.9-2-2-2zM9 17H7v-7h2v7zm4 0h-2V7h2v10zm4 0h-2v-4h2v4z\"/>\n",
              "    </g>\n",
              "</svg>\n",
              "  </button>\n",
              "\n",
              "<style>\n",
              "  .colab-df-quickchart {\n",
              "      --bg-color: #E8F0FE;\n",
              "      --fill-color: #1967D2;\n",
              "      --hover-bg-color: #E2EBFA;\n",
              "      --hover-fill-color: #174EA6;\n",
              "      --disabled-fill-color: #AAA;\n",
              "      --disabled-bg-color: #DDD;\n",
              "  }\n",
              "\n",
              "  [theme=dark] .colab-df-quickchart {\n",
              "      --bg-color: #3B4455;\n",
              "      --fill-color: #D2E3FC;\n",
              "      --hover-bg-color: #434B5C;\n",
              "      --hover-fill-color: #FFFFFF;\n",
              "      --disabled-bg-color: #3B4455;\n",
              "      --disabled-fill-color: #666;\n",
              "  }\n",
              "\n",
              "  .colab-df-quickchart {\n",
              "    background-color: var(--bg-color);\n",
              "    border: none;\n",
              "    border-radius: 50%;\n",
              "    cursor: pointer;\n",
              "    display: none;\n",
              "    fill: var(--fill-color);\n",
              "    height: 32px;\n",
              "    padding: 0;\n",
              "    width: 32px;\n",
              "  }\n",
              "\n",
              "  .colab-df-quickchart:hover {\n",
              "    background-color: var(--hover-bg-color);\n",
              "    box-shadow: 0 1px 2px rgba(60, 64, 67, 0.3), 0 1px 3px 1px rgba(60, 64, 67, 0.15);\n",
              "    fill: var(--button-hover-fill-color);\n",
              "  }\n",
              "\n",
              "  .colab-df-quickchart-complete:disabled,\n",
              "  .colab-df-quickchart-complete:disabled:hover {\n",
              "    background-color: var(--disabled-bg-color);\n",
              "    fill: var(--disabled-fill-color);\n",
              "    box-shadow: none;\n",
              "  }\n",
              "\n",
              "  .colab-df-spinner {\n",
              "    border: 2px solid var(--fill-color);\n",
              "    border-color: transparent;\n",
              "    border-bottom-color: var(--fill-color);\n",
              "    animation:\n",
              "      spin 1s steps(1) infinite;\n",
              "  }\n",
              "\n",
              "  @keyframes spin {\n",
              "    0% {\n",
              "      border-color: transparent;\n",
              "      border-bottom-color: var(--fill-color);\n",
              "      border-left-color: var(--fill-color);\n",
              "    }\n",
              "    20% {\n",
              "      border-color: transparent;\n",
              "      border-left-color: var(--fill-color);\n",
              "      border-top-color: var(--fill-color);\n",
              "    }\n",
              "    30% {\n",
              "      border-color: transparent;\n",
              "      border-left-color: var(--fill-color);\n",
              "      border-top-color: var(--fill-color);\n",
              "      border-right-color: var(--fill-color);\n",
              "    }\n",
              "    40% {\n",
              "      border-color: transparent;\n",
              "      border-right-color: var(--fill-color);\n",
              "      border-top-color: var(--fill-color);\n",
              "    }\n",
              "    60% {\n",
              "      border-color: transparent;\n",
              "      border-right-color: var(--fill-color);\n",
              "    }\n",
              "    80% {\n",
              "      border-color: transparent;\n",
              "      border-right-color: var(--fill-color);\n",
              "      border-bottom-color: var(--fill-color);\n",
              "    }\n",
              "    90% {\n",
              "      border-color: transparent;\n",
              "      border-bottom-color: var(--fill-color);\n",
              "    }\n",
              "  }\n",
              "</style>\n",
              "\n",
              "  <script>\n",
              "    async function quickchart(key) {\n",
              "      const quickchartButtonEl =\n",
              "        document.querySelector('#' + key + ' button');\n",
              "      quickchartButtonEl.disabled = true;  // To prevent multiple clicks.\n",
              "      quickchartButtonEl.classList.add('colab-df-spinner');\n",
              "      try {\n",
              "        const charts = await google.colab.kernel.invokeFunction(\n",
              "            'suggestCharts', [key], {});\n",
              "      } catch (error) {\n",
              "        console.error('Error during call to suggestCharts:', error);\n",
              "      }\n",
              "      quickchartButtonEl.classList.remove('colab-df-spinner');\n",
              "      quickchartButtonEl.classList.add('colab-df-quickchart-complete');\n",
              "    }\n",
              "    (() => {\n",
              "      let quickchartButtonEl =\n",
              "        document.querySelector('#df-f978f101-e89b-44a5-93a5-18ecb3c606ff button');\n",
              "      quickchartButtonEl.style.display =\n",
              "        google.colab.kernel.accessAllowed ? 'block' : 'none';\n",
              "    })();\n",
              "  </script>\n",
              "</div>\n",
              "\n",
              "  <div id=\"id_5cae79f1-3dc8-4487-ad9a-ac883068fe7a\">\n",
              "    <style>\n",
              "      .colab-df-generate {\n",
              "        background-color: #E8F0FE;\n",
              "        border: none;\n",
              "        border-radius: 50%;\n",
              "        cursor: pointer;\n",
              "        display: none;\n",
              "        fill: #1967D2;\n",
              "        height: 32px;\n",
              "        padding: 0 0 0 0;\n",
              "        width: 32px;\n",
              "      }\n",
              "\n",
              "      .colab-df-generate:hover {\n",
              "        background-color: #E2EBFA;\n",
              "        box-shadow: 0px 1px 2px rgba(60, 64, 67, 0.3), 0px 1px 3px 1px rgba(60, 64, 67, 0.15);\n",
              "        fill: #174EA6;\n",
              "      }\n",
              "\n",
              "      [theme=dark] .colab-df-generate {\n",
              "        background-color: #3B4455;\n",
              "        fill: #D2E3FC;\n",
              "      }\n",
              "\n",
              "      [theme=dark] .colab-df-generate:hover {\n",
              "        background-color: #434B5C;\n",
              "        box-shadow: 0px 1px 3px 1px rgba(0, 0, 0, 0.15);\n",
              "        filter: drop-shadow(0px 1px 2px rgba(0, 0, 0, 0.3));\n",
              "        fill: #FFFFFF;\n",
              "      }\n",
              "    </style>\n",
              "    <button class=\"colab-df-generate\" onclick=\"generateWithVariable('data')\"\n",
              "            title=\"Generate code using this dataframe.\"\n",
              "            style=\"display:none;\">\n",
              "\n",
              "  <svg xmlns=\"http://www.w3.org/2000/svg\" height=\"24px\"viewBox=\"0 0 24 24\"\n",
              "       width=\"24px\">\n",
              "    <path d=\"M7,19H8.4L18.45,9,17,7.55,7,17.6ZM5,21V16.75L18.45,3.32a2,2,0,0,1,2.83,0l1.4,1.43a1.91,1.91,0,0,1,.58,1.4,1.91,1.91,0,0,1-.58,1.4L9.25,21ZM18.45,9,17,7.55Zm-12,3A5.31,5.31,0,0,0,4.9,8.1,5.31,5.31,0,0,0,1,6.5,5.31,5.31,0,0,0,4.9,4.9,5.31,5.31,0,0,0,6.5,1,5.31,5.31,0,0,0,8.1,4.9,5.31,5.31,0,0,0,12,6.5,5.46,5.46,0,0,0,6.5,12Z\"/>\n",
              "  </svg>\n",
              "    </button>\n",
              "    <script>\n",
              "      (() => {\n",
              "      const buttonEl =\n",
              "        document.querySelector('#id_5cae79f1-3dc8-4487-ad9a-ac883068fe7a button.colab-df-generate');\n",
              "      buttonEl.style.display =\n",
              "        google.colab.kernel.accessAllowed ? 'block' : 'none';\n",
              "\n",
              "      buttonEl.onclick = () => {\n",
              "        google.colab.notebook.generateWithVariable('data');\n",
              "      }\n",
              "      })();\n",
              "    </script>\n",
              "  </div>\n",
              "\n",
              "    </div>\n",
              "  </div>\n"
            ],
            "application/vnd.google.colaboratory.intrinsic+json": {
              "type": "dataframe",
              "variable_name": "data"
            }
          },
          "metadata": {},
          "execution_count": 2
        }
      ]
    },
    {
      "cell_type": "code",
      "source": [
        "# 성별 딕셔너리\n",
        "sex_mapping = {\n",
        "    '여자': '0',\n",
        "    '남자': '1'\n",
        "}\n",
        "\n",
        "data['성별'] = data['성별'].astype(str).replace(sex_mapping)"
      ],
      "metadata": {
        "id": "sLBZJKWJS6eF"
      },
      "execution_count": null,
      "outputs": []
    },
    {
      "cell_type": "code",
      "source": [
        "data['성별'].unique()"
      ],
      "metadata": {
        "colab": {
          "base_uri": "https://localhost:8080/"
        },
        "id": "w-8rGRd3T8nZ",
        "outputId": "41cf7f7b-d60c-494c-adcf-f4a58e9cf384"
      },
      "execution_count": null,
      "outputs": [
        {
          "output_type": "execute_result",
          "data": {
            "text/plain": [
              "array(['0', '1'], dtype=object)"
            ]
          },
          "metadata": {},
          "execution_count": 6
        }
      ]
    },
    {
      "cell_type": "code",
      "source": [
        "# 연령대 딕셔너리\n",
        "age_mapping = {\n",
        "    '청년': '0',\n",
        "    '중년': '1',\n",
        "    '장년': '1',\n",
        "    '노년': '2'\n",
        "}\n",
        "\n",
        "data['연령대'] = data['연령대'].astype(str).replace(age_mapping)"
      ],
      "metadata": {
        "id": "xEgcVyOWT9VI"
      },
      "execution_count": null,
      "outputs": []
    },
    {
      "cell_type": "code",
      "source": [
        "data['교육 수준'].unique()"
      ],
      "metadata": {
        "colab": {
          "base_uri": "https://localhost:8080/"
        },
        "id": "3l05Qt92VlDB",
        "outputId": "80d1f234-a6a2-4bb6-bd37-a4fd441da91f"
      },
      "execution_count": null,
      "outputs": [
        {
          "output_type": "execute_result",
          "data": {
            "text/plain": [
              "array(['고등학교', '초등학교', '대학원이상', '4년제 대학', '중학교', '2년/3년제 대학', '무학',\n",
              "       '서당/한학', '응답거부'], dtype=object)"
            ]
          },
          "metadata": {},
          "execution_count": 8
        }
      ]
    },
    {
      "cell_type": "code",
      "source": [
        "# 교육 수준 딕셔너리\n",
        "education_mapping = {\n",
        "    '고등학교': '0',\n",
        "    '대학원이상': '0',\n",
        "    '4년제 대학': '0',\n",
        "    '2년/3년제 대학': '0',\n",
        "    '서당/한학': '1',\n",
        "    '응답거부': '1',\n",
        "    '중학교': '1',\n",
        "    '초등학교': '1',\n",
        "    '무학': '1'\n",
        "}\n",
        "\n",
        "data['교육 수준'] = data['교육 수준'].astype(str).replace(education_mapping)"
      ],
      "metadata": {
        "id": "9xF6RFVYVnGy"
      },
      "execution_count": null,
      "outputs": []
    },
    {
      "cell_type": "code",
      "source": [
        "data['교육 수준'].unique()"
      ],
      "metadata": {
        "colab": {
          "base_uri": "https://localhost:8080/"
        },
        "id": "YAPWbIMLXOgT",
        "outputId": "14bccd21-1120-403e-d518-7e077c58f843"
      },
      "execution_count": null,
      "outputs": [
        {
          "output_type": "execute_result",
          "data": {
            "text/plain": [
              "array(['0', '1'], dtype=object)"
            ]
          },
          "metadata": {},
          "execution_count": 10
        }
      ]
    },
    {
      "cell_type": "code",
      "source": [
        "data['일반담배(궐련) 현재흡연 여부'].unique()"
      ],
      "metadata": {
        "colab": {
          "base_uri": "https://localhost:8080/"
        },
        "id": "jlnDNyKkXP-a",
        "outputId": "9a4a3d48-2438-4c7c-e44c-c53076662417"
      },
      "execution_count": null,
      "outputs": [
        {
          "output_type": "execute_result",
          "data": {
            "text/plain": [
              "array(['비해당', '매일 피운다', '과거에는 피웠으나 현재 피우지 않는다', '가끔 피운다'], dtype=object)"
            ]
          },
          "metadata": {},
          "execution_count": 11
        }
      ]
    },
    {
      "cell_type": "code",
      "source": [
        "# 일반담배(궐련) 현재흡연 여부 딕셔너리\n",
        "current_smoking_mapping = {\n",
        "    '매일 피운다': '1',\n",
        "    '과거에는 피웠으나 현재 피우지 않는다': '0',\n",
        "    '가끔 피운다': '1',\n",
        "    '비해당': '0'\n",
        "}\n",
        "\n",
        "data['일반담배(궐련) 현재흡연 여부'] = data['일반담배(궐련) 현재흡연 여부'].astype(str).replace(current_smoking_mapping)"
      ],
      "metadata": {
        "id": "K6cApOhnXgdd"
      },
      "execution_count": null,
      "outputs": []
    },
    {
      "cell_type": "code",
      "source": [
        "data['일반담배(궐련) 현재흡연 여부'].unique()"
      ],
      "metadata": {
        "colab": {
          "base_uri": "https://localhost:8080/"
        },
        "id": "OdhDH32KYH8T",
        "outputId": "9c004016-a9e3-4a09-cd5d-92080f9844df"
      },
      "execution_count": null,
      "outputs": [
        {
          "output_type": "execute_result",
          "data": {
            "text/plain": [
              "array(['0', '1'], dtype=object)"
            ]
          },
          "metadata": {},
          "execution_count": 13
        }
      ]
    },
    {
      "cell_type": "code",
      "source": [
        "# 평생 음주 여부 딕셔너리\n",
        "drinking_mapping = {\n",
        "    '예': '1',\n",
        "    '아니오': '0',\n",
        "    '모름': '1'\n",
        "}\n",
        "\n",
        "data['평생 음주 여부'] = data['평생 음주 여부'].astype(str).replace(drinking_mapping)"
      ],
      "metadata": {
        "id": "b1uG9pBfYJDp"
      },
      "execution_count": null,
      "outputs": []
    },
    {
      "cell_type": "code",
      "source": [
        "data['평생 음주 여부'].unique()"
      ],
      "metadata": {
        "colab": {
          "base_uri": "https://localhost:8080/"
        },
        "id": "cLPGUZH2a50m",
        "outputId": "ed1c8e20-c3c5-4374-c832-d9ac70c2f181"
      },
      "execution_count": null,
      "outputs": [
        {
          "output_type": "execute_result",
          "data": {
            "text/plain": [
              "array(['1', '0'], dtype=object)"
            ]
          },
          "metadata": {},
          "execution_count": 15
        }
      ]
    },
    {
      "cell_type": "code",
      "source": [
        "data['주관적 건강수준'].unique()"
      ],
      "metadata": {
        "colab": {
          "base_uri": "https://localhost:8080/"
        },
        "id": "EpfTgt7mbWtC",
        "outputId": "6ebf151b-bee1-4b3c-fa10-d96dd0d59533"
      },
      "execution_count": null,
      "outputs": [
        {
          "output_type": "execute_result",
          "data": {
            "text/plain": [
              "array(['좋음', '매우 좋음', '나쁨', '보통', '매우 나쁨'], dtype=object)"
            ]
          },
          "metadata": {},
          "execution_count": 16
        }
      ]
    },
    {
      "cell_type": "code",
      "source": [
        "# 주관적 건강수준 딕셔너리\n",
        "subjective_health_mapping = {\n",
        "    '좋음': '0',\n",
        "    '매우 좋음': '0',\n",
        "    '보통': '0',\n",
        "    '매우 나쁨': '1',\n",
        "    '나쁨': '1'\n",
        "}\n",
        "\n",
        "data['주관적 건강수준'] = data['주관적 건강수준'].astype(str).replace(subjective_health_mapping)"
      ],
      "metadata": {
        "id": "dwN-ovsBbX83"
      },
      "execution_count": null,
      "outputs": []
    },
    {
      "cell_type": "code",
      "source": [
        "data['주관적 건강수준'].unique()"
      ],
      "metadata": {
        "colab": {
          "base_uri": "https://localhost:8080/"
        },
        "id": "jsNqJsrkcwgN",
        "outputId": "0c8f8f9b-803a-4c0f-cb69-7bd3f987c903"
      },
      "execution_count": null,
      "outputs": [
        {
          "output_type": "execute_result",
          "data": {
            "text/plain": [
              "array(['0', '1'], dtype=object)"
            ]
          },
          "metadata": {},
          "execution_count": 18
        }
      ]
    },
    {
      "cell_type": "markdown",
      "source": [
        "**뇌졸중**"
      ],
      "metadata": {
        "id": "IXuGnOthe2sf"
      }
    },
    {
      "cell_type": "code",
      "source": [
        "# 뇌졸중(중풍) 조기증상 인지_팔다리 힘빠짐 딕셔너리\n",
        "stroke_symptom_recognition_mapping = {\n",
        "    '예': '1',\n",
        "    '아니오': '0',\n",
        "    '모름': '0'\n",
        "}\n",
        "\n",
        "data['뇌졸중(중풍) 조기증상 인지_팔다리 힘빠짐'] = data['뇌졸중(중풍) 조기증상 인지_팔다리 힘빠짐'].astype(str).replace(stroke_symptom_recognition_mapping)"
      ],
      "metadata": {
        "id": "v5vjPy7Ucy_l"
      },
      "execution_count": null,
      "outputs": []
    },
    {
      "cell_type": "code",
      "source": [
        "data['뇌졸중(중풍) 조기증상 인지_팔다리 힘빠짐'].unique()"
      ],
      "metadata": {
        "colab": {
          "base_uri": "https://localhost:8080/"
        },
        "id": "Gs8Y9wxdfPad",
        "outputId": "23fabd49-1560-4ca8-c052-9eedea069190"
      },
      "execution_count": null,
      "outputs": [
        {
          "output_type": "execute_result",
          "data": {
            "text/plain": [
              "array(['0', '1'], dtype=object)"
            ]
          },
          "metadata": {},
          "execution_count": 20
        }
      ]
    },
    {
      "cell_type": "code",
      "source": [
        "# 뇌졸중(중풍) 조기증상 인지_말이 어눌해짐 딕셔너리\n",
        "stroke_symptom_recognition_speech_mapping = {\n",
        "    '예': '1',\n",
        "    '아니오': '0',\n",
        "    '모름': '0'\n",
        "}\n",
        "\n",
        "data['뇌졸중(중풍) 조기증상 인지_말이 어눌해짐'] = data['뇌졸중(중풍) 조기증상 인지_말이 어눌해짐'].astype(str).replace(stroke_symptom_recognition_speech_mapping)"
      ],
      "metadata": {
        "id": "uJB9hMFlfpGs"
      },
      "execution_count": null,
      "outputs": []
    },
    {
      "cell_type": "code",
      "source": [
        "data['뇌졸중(중풍) 조기증상 인지_말이 어눌해짐'].unique()"
      ],
      "metadata": {
        "colab": {
          "base_uri": "https://localhost:8080/"
        },
        "id": "EFUpH6j0fRFP",
        "outputId": "22c99686-84d4-4e47-864b-73a9d3e01d51"
      },
      "execution_count": null,
      "outputs": [
        {
          "output_type": "execute_result",
          "data": {
            "text/plain": [
              "array(['0', '1'], dtype=object)"
            ]
          },
          "metadata": {},
          "execution_count": 22
        }
      ]
    },
    {
      "cell_type": "code",
      "source": [
        "# 뇌졸중(중풍) 조기증상 인지_한쪽 눈 안보임 딕셔너리\n",
        "stroke_symptom_recognition_eye_mapping = {\n",
        "    '예': '1',\n",
        "    '아니오': '0',\n",
        "    '모름': '0',\n",
        "    '응답거부': '0'\n",
        "}\n",
        "\n",
        "data['뇌졸중(중풍) 조기증상 인지_한쪽 눈 안보임'] = data['뇌졸중(중풍) 조기증상 인지_한쪽 눈 안보임'].astype(str).replace(stroke_symptom_recognition_eye_mapping)"
      ],
      "metadata": {
        "id": "P0dRCjWIgAV4"
      },
      "execution_count": null,
      "outputs": []
    },
    {
      "cell_type": "code",
      "source": [
        "data['뇌졸중(중풍) 조기증상 인지_한쪽 눈 안보임'].unique()"
      ],
      "metadata": {
        "colab": {
          "base_uri": "https://localhost:8080/"
        },
        "id": "TzeLoFq9gODJ",
        "outputId": "3961b642-1d75-4894-afdc-40abce61d976"
      },
      "execution_count": null,
      "outputs": [
        {
          "output_type": "execute_result",
          "data": {
            "text/plain": [
              "array(['0', '1'], dtype=object)"
            ]
          },
          "metadata": {},
          "execution_count": 24
        }
      ]
    },
    {
      "cell_type": "code",
      "source": [
        "# 뇌졸중(중풍) 인지_중심잡기 힘듦 딕셔너리\n",
        "stroke_symptom_recognition_balance_mapping = {\n",
        "    '예': '1',\n",
        "    '아니오': '0',\n",
        "    '모름': '0'\n",
        "}\n",
        "\n",
        "data['뇌졸중(중풍) 인지_중심잡기 힘듦'] = data['뇌졸중(중풍) 인지_중심잡기 힘듦'].astype(str).replace(stroke_symptom_recognition_balance_mapping)"
      ],
      "metadata": {
        "id": "Z7P4noLBgPsa"
      },
      "execution_count": null,
      "outputs": []
    },
    {
      "cell_type": "code",
      "source": [
        "data['뇌졸중(중풍) 인지_중심잡기 힘듦'].unique()"
      ],
      "metadata": {
        "colab": {
          "base_uri": "https://localhost:8080/"
        },
        "id": "ebO5dfqUgkl-",
        "outputId": "867040c5-710f-4a87-ec0d-674ec4562983"
      },
      "execution_count": null,
      "outputs": [
        {
          "output_type": "execute_result",
          "data": {
            "text/plain": [
              "array(['0', '1'], dtype=object)"
            ]
          },
          "metadata": {},
          "execution_count": 26
        }
      ]
    },
    {
      "cell_type": "code",
      "source": [
        "# 뇌졸중(중풍) 조기증상 인지_심한 두통 딕셔너리\n",
        "stroke_symptom_recognition_headache_mapping = {\n",
        "    '예': '1',\n",
        "    '아니오': '0',\n",
        "    '모름': '0',\n",
        "    '응답거부': '0'\n",
        "}\n",
        "\n",
        "data['뇌졸중(중풍) 조기증상 인지_심한 두통'] = data['뇌졸중(중풍) 조기증상 인지_심한 두통'].astype(str).replace(stroke_symptom_recognition_headache_mapping)"
      ],
      "metadata": {
        "id": "WZ7FLtUUgmX2"
      },
      "execution_count": null,
      "outputs": []
    },
    {
      "cell_type": "code",
      "source": [
        "data['뇌졸중(중풍) 조기증상 인지_심한 두통'].unique()"
      ],
      "metadata": {
        "colab": {
          "base_uri": "https://localhost:8080/"
        },
        "id": "72ioQwsHg_5J",
        "outputId": "9a84a895-5ec4-408c-a5c5-e279fe789e63"
      },
      "execution_count": null,
      "outputs": [
        {
          "output_type": "execute_result",
          "data": {
            "text/plain": [
              "array(['0', '1'], dtype=object)"
            ]
          },
          "metadata": {},
          "execution_count": 28
        }
      ]
    },
    {
      "cell_type": "markdown",
      "source": [
        "**심근경색**"
      ],
      "metadata": {
        "id": "exvYLA64hK9g"
      }
    },
    {
      "cell_type": "code",
      "source": [
        "# 심근경색증 조기증상 인지_턱,목,등 통증 딕셔너리\n",
        "myocardial_infarction_symptom_recognition_mapping = {\n",
        "    '예': '1',\n",
        "    '아니오': '0',\n",
        "    '모름': '0'\n",
        "}\n",
        "\n",
        "data['심근경색증 조기증상 인지_턱,목,등 통증'] = data['심근경색증 조기증상 인지_턱,목,등 통증'].astype(str).replace(myocardial_infarction_symptom_recognition_mapping)"
      ],
      "metadata": {
        "id": "79HUHY3sg__W"
      },
      "execution_count": null,
      "outputs": []
    },
    {
      "cell_type": "code",
      "source": [
        "data['심근경색증 조기증상 인지_턱,목,등 통증'].unique()"
      ],
      "metadata": {
        "colab": {
          "base_uri": "https://localhost:8080/"
        },
        "id": "nMFtaKcghADg",
        "outputId": "d08a7dc4-8204-4dc2-cf74-6f4b26246cdf"
      },
      "execution_count": null,
      "outputs": [
        {
          "output_type": "execute_result",
          "data": {
            "text/plain": [
              "array(['0', '1'], dtype=object)"
            ]
          },
          "metadata": {},
          "execution_count": 30
        }
      ]
    },
    {
      "cell_type": "code",
      "source": [
        "# 심근경색증 조기증상 인지_어지러움 딕셔너리\n",
        "myocardial_infarction_dizziness_mapping = {\n",
        "    '예': '1',\n",
        "    '아니오': '0',\n",
        "    '모름': '0',\n",
        "    '응답거부': '0'\n",
        "}\n",
        "\n",
        "data['심근경색증 조기증상 인지_어지러움'] = data['심근경색증 조기증상 인지_어지러움'].astype(str).replace(myocardial_infarction_dizziness_mapping)"
      ],
      "metadata": {
        "id": "kUXwVztdhAHD"
      },
      "execution_count": null,
      "outputs": []
    },
    {
      "cell_type": "code",
      "source": [
        "data['심근경색증 조기증상 인지_어지러움'].unique()"
      ],
      "metadata": {
        "colab": {
          "base_uri": "https://localhost:8080/"
        },
        "id": "Vugd_GKsk7Fz",
        "outputId": "1e11a7ba-5723-48b9-f030-474b3844a0af"
      },
      "execution_count": null,
      "outputs": [
        {
          "output_type": "execute_result",
          "data": {
            "text/plain": [
              "array(['0', '1'], dtype=object)"
            ]
          },
          "metadata": {},
          "execution_count": 32
        }
      ]
    },
    {
      "cell_type": "code",
      "source": [
        "# 심근경색증 조기증상 인지_가슴통증 딕셔너리\n",
        "myocardial_infarction_chest_pain_mapping = {\n",
        "    '예': '1',\n",
        "    '아니오': '0',\n",
        "    '모름': '0'\n",
        "}\n",
        "\n",
        "data['심근경색증 조기증상 인지_가슴통증'] = data['심근경색증 조기증상 인지_가슴통증'].astype(str).replace(myocardial_infarction_chest_pain_mapping)"
      ],
      "metadata": {
        "id": "k-puNRADlJM1"
      },
      "execution_count": null,
      "outputs": []
    },
    {
      "cell_type": "code",
      "source": [
        "data['심근경색증 조기증상 인지_가슴통증'].unique()"
      ],
      "metadata": {
        "colab": {
          "base_uri": "https://localhost:8080/"
        },
        "id": "vUB_sJC1lhs0",
        "outputId": "e9c82951-2f32-4bb6-92a3-f0143408da30"
      },
      "execution_count": null,
      "outputs": [
        {
          "output_type": "execute_result",
          "data": {
            "text/plain": [
              "array(['1', '0'], dtype=object)"
            ]
          },
          "metadata": {},
          "execution_count": 34
        }
      ]
    },
    {
      "cell_type": "code",
      "source": [
        "# 심근경색증 조기증상 인지_팔,어깨통증 딕셔너리\n",
        "myocardial_infarction_arm_shoulder_pain_mapping = {\n",
        "    '예': '1',\n",
        "    '아니오': '0',\n",
        "    '모름': '0',\n",
        "    '응답거부': '0'\n",
        "}\n",
        "\n",
        "data['심근경색증 조기증상 인지_팔,어깨통증'] = data['심근경색증 조기증상 인지_팔,어깨통증'].astype(str).replace(myocardial_infarction_arm_shoulder_pain_mapping)"
      ],
      "metadata": {
        "id": "-5gdNtyFlhx8"
      },
      "execution_count": null,
      "outputs": []
    },
    {
      "cell_type": "code",
      "source": [
        "data['심근경색증 조기증상 인지_팔,어깨통증'].unique()"
      ],
      "metadata": {
        "colab": {
          "base_uri": "https://localhost:8080/"
        },
        "id": "enJr-upqmFO8",
        "outputId": "cd58fc16-d72d-409c-f6f8-52de17f87d0b"
      },
      "execution_count": null,
      "outputs": [
        {
          "output_type": "execute_result",
          "data": {
            "text/plain": [
              "array(['0', '1'], dtype=object)"
            ]
          },
          "metadata": {},
          "execution_count": 36
        }
      ]
    },
    {
      "cell_type": "code",
      "source": [
        "# 심근경색증 조기증상 인지_숨이참 딕셔너리\n",
        "myocardial_infarction_dyspnea_mapping = {\n",
        "    '예': '1',\n",
        "    '아니오': '0',\n",
        "    '모름': '0',\n",
        "    '응답거부': '0'\n",
        "}\n",
        "\n",
        "data['심근경색증 조기증상 인지_숨이참'] = data['심근경색증 조기증상 인지_숨이참'].astype(str).replace(myocardial_infarction_dyspnea_mapping)"
      ],
      "metadata": {
        "id": "dnwQ30E0mPHu"
      },
      "execution_count": null,
      "outputs": []
    },
    {
      "cell_type": "code",
      "source": [
        "data['심근경색증 조기증상 인지_숨이참'].unique()"
      ],
      "metadata": {
        "colab": {
          "base_uri": "https://localhost:8080/"
        },
        "id": "IH28BmkTma8S",
        "outputId": "e22b111c-d0cb-456b-dc75-9148d028945c"
      },
      "execution_count": null,
      "outputs": [
        {
          "output_type": "execute_result",
          "data": {
            "text/plain": [
              "array(['0', '1'], dtype=object)"
            ]
          },
          "metadata": {},
          "execution_count": 38
        }
      ]
    },
    {
      "cell_type": "code",
      "source": [
        "# 주관적 스트레스 수준 딕셔너리\n",
        "subjective_stress_level_mapping = {\n",
        "    '조금 느끼는 편이다': '1',\n",
        "    '거의 느끼지 않는다': '0',\n",
        "    '많이 느끼는 편이다': '1',\n",
        "    '대단히 많이 느낀다': '1',\n",
        "    '모름': '0'\n",
        "}\n",
        "\n",
        "data['주관적 스트레스 수준'] = data['주관적 스트레스 수준'].astype(str).replace(subjective_stress_level_mapping)"
      ],
      "metadata": {
        "id": "bb92A8H-mfNN"
      },
      "execution_count": null,
      "outputs": []
    },
    {
      "cell_type": "code",
      "source": [
        "data['주관적 스트레스 수준'].unique()"
      ],
      "metadata": {
        "colab": {
          "base_uri": "https://localhost:8080/"
        },
        "id": "kXxywq2Nm9bF",
        "outputId": "454a8ca0-8bf2-4376-98e7-c9877763e587"
      },
      "execution_count": null,
      "outputs": [
        {
          "output_type": "execute_result",
          "data": {
            "text/plain": [
              "array(['1', '0'], dtype=object)"
            ]
          },
          "metadata": {},
          "execution_count": 40
        }
      ]
    },
    {
      "cell_type": "code",
      "source": [
        "# 우울감 경험 여부 딕셔너리\n",
        "depression_experience_mapping = {\n",
        "    '예': '1',\n",
        "    '아니오': '0',\n",
        "    '모름': '0',\n",
        "    '응답거부': '0'\n",
        "}\n",
        "\n",
        "data['우울감 경험 여부'] = data['우울감 경험 여부'].astype(str).replace(depression_experience_mapping)"
      ],
      "metadata": {
        "id": "v5uZ8d4Mm_ud"
      },
      "execution_count": null,
      "outputs": []
    },
    {
      "cell_type": "code",
      "source": [
        "data['우울감 경험 여부'].unique()"
      ],
      "metadata": {
        "colab": {
          "base_uri": "https://localhost:8080/"
        },
        "id": "KlJMNcyzn66X",
        "outputId": "eed711bf-b3fe-4633-c6bb-50b8de434361"
      },
      "execution_count": null,
      "outputs": [
        {
          "output_type": "execute_result",
          "data": {
            "text/plain": [
              "array(['0', '1'], dtype=object)"
            ]
          },
          "metadata": {},
          "execution_count": 42
        }
      ]
    },
    {
      "cell_type": "code",
      "source": [
        "# 혈압수치 인지 여부 딕셔너리\n",
        "blood_pressure_awareness_mapping = {\n",
        "    '예': '1',\n",
        "    '아니오': '0',\n",
        "    '모름': '0'\n",
        "}\n",
        "\n",
        "data['혈압수치 인지 여부'] = data['혈압수치 인지 여부'].astype(str).replace(blood_pressure_awareness_mapping)"
      ],
      "metadata": {
        "id": "5ji18Yeon69J"
      },
      "execution_count": null,
      "outputs": []
    },
    {
      "cell_type": "code",
      "source": [
        "data['혈압수치 인지 여부'].unique()"
      ],
      "metadata": {
        "colab": {
          "base_uri": "https://localhost:8080/"
        },
        "id": "YJIZTMXsogNo",
        "outputId": "f62353f6-d289-421a-e9b5-a3f0c29f455c"
      },
      "execution_count": null,
      "outputs": [
        {
          "output_type": "execute_result",
          "data": {
            "text/plain": [
              "array(['1', '0'], dtype=object)"
            ]
          },
          "metadata": {},
          "execution_count": 44
        }
      ]
    },
    {
      "cell_type": "code",
      "source": [
        "# 혈당수치 인지 여부 딕셔너리\n",
        "blood_sugar_awareness_mapping = {\n",
        "    '예': '1',\n",
        "    '아니오': '0',\n",
        "    '모름': '0'\n",
        "}\n",
        "\n",
        "data['혈당수치 인지 여부'] = data['혈당수치 인지 여부'].astype(str).replace(blood_sugar_awareness_mapping)"
      ],
      "metadata": {
        "id": "i_TAPrlwohxq"
      },
      "execution_count": null,
      "outputs": []
    },
    {
      "cell_type": "code",
      "source": [
        "data['혈당수치 인지 여부'].unique()"
      ],
      "metadata": {
        "colab": {
          "base_uri": "https://localhost:8080/"
        },
        "id": "KZtHgauGpGs6",
        "outputId": "9cb77264-b8e2-47d4-8a31-4cedb89e441c"
      },
      "execution_count": null,
      "outputs": [
        {
          "output_type": "execute_result",
          "data": {
            "text/plain": [
              "array(['0', '1'], dtype=object)"
            ]
          },
          "metadata": {},
          "execution_count": 46
        }
      ]
    },
    {
      "cell_type": "code",
      "source": [
        "# 걷기 실천 일수 딕셔너리\n",
        "walking_practice_days_mapping = {\n",
        "    '7': '0',\n",
        "    '6': '0',\n",
        "    '5': '1',\n",
        "    '4': '1',\n",
        "    '3': '1',\n",
        "    '2': '2',\n",
        "    '1': '2',\n",
        "    '0': '3',\n",
        "    '모름': '3'\n",
        "}\n",
        "\n",
        "data['걷기 실천 일수'] = data['걷기 실천 일수'].astype(str).replace(walking_practice_days_mapping)"
      ],
      "metadata": {
        "id": "V6IDz3sQpIrH"
      },
      "execution_count": null,
      "outputs": []
    },
    {
      "cell_type": "code",
      "source": [
        "data['걷기 실천 일수'].unique()"
      ],
      "metadata": {
        "colab": {
          "base_uri": "https://localhost:8080/"
        },
        "id": "4GgXU7j3pW-E",
        "outputId": "83e94697-24f0-4684-aa01-3f240db0a034"
      },
      "execution_count": null,
      "outputs": [
        {
          "output_type": "execute_result",
          "data": {
            "text/plain": [
              "array(['1', '0', '2', '3'], dtype=object)"
            ]
          },
          "metadata": {},
          "execution_count": 48
        }
      ]
    },
    {
      "cell_type": "code",
      "source": [
        "# BMI(판정기준) 딕셔너리\n",
        "bmi_mapping = {\n",
        "    '정상': '0',\n",
        "    '저체중': '1',\n",
        "    '비만전단계': '2',\n",
        "    '1단계 비만': '3',\n",
        "    '2단계 비만': '3',\n",
        "    '3단계 비만': '3'\n",
        "}\n",
        "\n",
        "data['BMI(판정기준)'] = data['BMI(판정기준)'].astype(str).replace(bmi_mapping)"
      ],
      "metadata": {
        "id": "N_44spnqphco"
      },
      "execution_count": null,
      "outputs": []
    },
    {
      "cell_type": "code",
      "source": [
        "data['BMI(판정기준)'].unique()"
      ],
      "metadata": {
        "colab": {
          "base_uri": "https://localhost:8080/"
        },
        "id": "s2mhiPJLqFOQ",
        "outputId": "e3f9cb56-3777-4ce7-dc70-05b42779781d"
      },
      "execution_count": null,
      "outputs": [
        {
          "output_type": "execute_result",
          "data": {
            "text/plain": [
              "array(['3', '2', '0', '1'], dtype=object)"
            ]
          },
          "metadata": {},
          "execution_count": 50
        }
      ]
    },
    {
      "cell_type": "code",
      "source": [
        "# 검진군/비검진군 판단 딕셔너리\n",
        "examinationGroupY_mapping = {\n",
        "    '검진군': '0',\n",
        "    '비검진군': '1'\n",
        "}\n",
        "\n",
        "data['검진군/비검진군 판단'] = data['검진군/비검진군 판단'].astype(str).replace(examinationGroupY_mapping)"
      ],
      "metadata": {
        "id": "XOII5kG1qFRQ"
      },
      "execution_count": null,
      "outputs": []
    },
    {
      "cell_type": "code",
      "source": [
        "data['검진군/비검진군 판단'].unique()"
      ],
      "metadata": {
        "colab": {
          "base_uri": "https://localhost:8080/"
        },
        "id": "XokVoIjLqFUd",
        "outputId": "c177b4ed-4469-4939-c898-31415238d6fd"
      },
      "execution_count": null,
      "outputs": [
        {
          "output_type": "execute_result",
          "data": {
            "text/plain": [
              "array(['0', '1'], dtype=object)"
            ]
          },
          "metadata": {},
          "execution_count": 52
        }
      ]
    },
    {
      "cell_type": "code",
      "source": [
        "# 동/읍면 구분 딕셔너리\n",
        "dong_mapping = {\n",
        "    '동': '0',\n",
        "    '읍·면': '1'\n",
        "}\n",
        "\n",
        "data['동/읍면 구분'] = data['동/읍면 구분'].astype(str).replace(dong_mapping)"
      ],
      "metadata": {
        "id": "Cx__29P5riKS"
      },
      "execution_count": null,
      "outputs": []
    },
    {
      "cell_type": "code",
      "source": [
        "data['동/읍면 구분'].unique()"
      ],
      "metadata": {
        "colab": {
          "base_uri": "https://localhost:8080/"
        },
        "id": "jtkiuLLvsV4J",
        "outputId": "f1bcbed6-bf03-4a46-8373-349e781484b0"
      },
      "execution_count": null,
      "outputs": [
        {
          "output_type": "execute_result",
          "data": {
            "text/plain": [
              "array(['1', '0'], dtype=object)"
            ]
          },
          "metadata": {},
          "execution_count": 54
        }
      ]
    },
    {
      "cell_type": "code",
      "source": [
        "# 가구소득_(월)금액 딕셔너리\n",
        "incomeMonth_mapping = {\n",
        "    '500': '0',      # 500만원 이상\n",
        "    '88888': '0',\n",
        "    '2000': '0',\n",
        "    '1000': '0',\n",
        "    '1200': '0',\n",
        "    '900': '0',\n",
        "    '1500': '0',\n",
        "    '1400': '0',\n",
        "    '850': '0',\n",
        "    '2500': '0',\n",
        "    '1300': '0',\n",
        "    '1100': '0',\n",
        "    '840': '0',\n",
        "    '950': '0',\n",
        "    '520': '0',\n",
        "    '530': '0',\n",
        "    '560': '0',\n",
        "    '590': '0',\n",
        "    '620': '0',\n",
        "    '670': '0',\n",
        "    '680': '0',\n",
        "    '580': '0',\n",
        "    '100': '2',      # 100~500만원 미만\n",
        "    '300': '2',\n",
        "    '600': '2',\n",
        "    '400': '2',\n",
        "    '700': '2',\n",
        "    '250': '2',\n",
        "    '800': '2',\n",
        "    '200': '2',\n",
        "    '650': '2',\n",
        "    '750': '2',\n",
        "    '350': '2',\n",
        "    '180': '2',\n",
        "    '170': '2',\n",
        "    '470': '2',\n",
        "    '450': '2',\n",
        "    '420': '2',\n",
        "    '230': '2',\n",
        "    '410': '2',\n",
        "    '320': '2',\n",
        "    '190': '2',\n",
        "    '260': '2',\n",
        "    '160': '2',\n",
        "    '210': '2',\n",
        "    '280': '2',\n",
        "    '340': '2',\n",
        "    '550': '2',\n",
        "    '380': '2',\n",
        "    '290': '2',\n",
        "    '430': '2',\n",
        "    '252': '2',\n",
        "    '240': '2',\n",
        "    '360': '2',\n",
        "    '205': '2',\n",
        "    '390': '2',\n",
        "    '295': '2',\n",
        "    '156': '2',\n",
        "    '308': '2',\n",
        "    '215': '2',\n",
        "    '460': '2',\n",
        "    '168': '2',\n",
        "    '480': '2',\n",
        "    '362': '2',\n",
        "    '220': '2',\n",
        "    '370': '2',\n",
        "    '358': '2',\n",
        "    '330': '2',\n",
        "    '235': '2',\n",
        "    '195': '2',\n",
        "    '285': '2',\n",
        "    '154': '2',\n",
        "    '125': '2',\n",
        "    '145': '2',\n",
        "    '157': '2',\n",
        "    '177': '2',\n",
        "    '50': '1',       # 100만원 미만\n",
        "    '60': '1',\n",
        "    '150': '1',\n",
        "    '30': '1',\n",
        "    '70': '1',\n",
        "    '80': '1',\n",
        "    '140': '1',\n",
        "    '90': '1',\n",
        "    '27': '1',\n",
        "    '120': '1',\n",
        "    '63': '1',\n",
        "    '62': '1',\n",
        "    '0': '1',\n",
        "    '65': '1',\n",
        "    '40': '1',\n",
        "    '130': '1',\n",
        "    '270': '1',\n",
        "    '68': '1',\n",
        "    '56': '1',\n",
        "    '39': '1',\n",
        "    '20': '1',\n",
        "    '110': '1',\n",
        "    '95': '1',\n",
        "    '45': '1',\n",
        "    '42': '1',\n",
        "    '38': '1',\n",
        "    '85': '1',\n",
        "    '25': '1',\n",
        "    '87': '1',\n",
        "    '54': '1',\n",
        "    '57': '1',\n",
        "    '53': '1',\n",
        "    '75': '1',\n",
        "    '67': '1',\n",
        "    '107': '1',\n",
        "    '16': '1',\n",
        "    '48': '1',\n",
        "    '64': '1',\n",
        "    '77': '1',\n",
        "    '135': '1',\n",
        "    '58': '1',\n",
        "    '72': '1',\n",
        "    '32': '1',\n",
        "    '55': '1',\n",
        "    '108': '1',\n",
        "    '98': '1',\n",
        "    '35': '1',\n",
        "    '82': '1',\n",
        "    '47': '1',\n",
        "    '81': '1',\n",
        "    '78': '1',\n",
        "    '115': '1',\n",
        "    '46': '1',\n",
        "    '79': '1',\n",
        "    '52': '1',\n",
        "    '19': '1',\n",
        "    '33': '1',\n",
        "    '10': '1',\n",
        "    '105': '1',\n",
        "    '31': '1',\n",
        "    '119': '1',\n",
        "    '69': '1',\n",
        "    '24': '1',\n",
        "    '76': '1',\n",
        "    '73': '1',\n",
        "    '44': '1',\n",
        "    '41': '1',\n",
        "    '8': '1',\n",
        "    '59': '1',\n",
        "    '36': '1',\n",
        "    '61': '1',\n",
        "    '97': '1',\n",
        "    '51': '1',\n",
        "    '모름': '1',\n",
        "    '응답거부': '1'\n",
        "}\n",
        "\n",
        "data['가구소득_(월)금액'] = data['가구소득_(월)금액'].astype(str).replace(incomeMonth_mapping)"
      ],
      "metadata": {
        "id": "iMGp-8r-sX5F"
      },
      "execution_count": null,
      "outputs": []
    },
    {
      "cell_type": "code",
      "source": [
        "data['가구소득_(월)금액'].unique()"
      ],
      "metadata": {
        "colab": {
          "base_uri": "https://localhost:8080/"
        },
        "id": "uJNzZrGNsqUj",
        "outputId": "ad43266c-e0ea-4663-bd1e-1ba5e3545fd2"
      },
      "execution_count": null,
      "outputs": [
        {
          "output_type": "execute_result",
          "data": {
            "text/plain": [
              "array(['2', '0', '1'], dtype=object)"
            ]
          },
          "metadata": {},
          "execution_count": 56
        }
      ]
    },
    {
      "cell_type": "code",
      "source": [
        "# 직업분류(재분류) 딕셔너리\n",
        "job_classification_mapping = {\n",
        "    '관리자': '0',\n",
        "    '농·임·어업종사자': '3',\n",
        "    '장치, 기계조작 및 조립종사자': '4',\n",
        "    '전문가 및 관련종사자': '0',\n",
        "    '사무종사자': '1',\n",
        "    '단순노무종사자': '4',\n",
        "    '기능원 및 관련기능종사자': '4',\n",
        "    '서비스종사자': '2',\n",
        "    '판매종사자': '2',\n",
        "    '군인(직업군인)': '5',\n",
        "    '비해당(문항2/②)': '5'\n",
        "}\n",
        "\n",
        "data['직업분류(재분류)'] = data['직업분류(재분류)'].astype(str).replace(job_classification_mapping)"
      ],
      "metadata": {
        "id": "ougPR5VhssUJ"
      },
      "execution_count": null,
      "outputs": []
    },
    {
      "cell_type": "code",
      "source": [
        "data['직업분류(재분류)'].unique()"
      ],
      "metadata": {
        "colab": {
          "base_uri": "https://localhost:8080/"
        },
        "id": "Zoof6jwNxDg5",
        "outputId": "72ca7b97-d1b8-42f7-b805-060a5265d07c"
      },
      "execution_count": null,
      "outputs": [
        {
          "output_type": "execute_result",
          "data": {
            "text/plain": [
              "array(['5', '3', '4', '0', '1', '2'], dtype=object)"
            ]
          },
          "metadata": {},
          "execution_count": 58
        }
      ]
    },
    {
      "cell_type": "code",
      "source": [
        "# 혼인 상태 딕셔너리\n",
        "marry_mapping = {\n",
        "    '배우자 있으며, 함께 살고 있다': '0',\n",
        "    '배우자 사망으로 배우자가 없다': '0',\n",
        "    '미혼으로 배우자가 없다': '1',\n",
        "    '이혼으로 배우자가 없다': '0',\n",
        "    '배우자 있으나, 함께 살고 있지 않는다': '0',\n",
        "    '응답거부': '0'\n",
        "}\n",
        "\n",
        "data['혼인 상태'] = data['혼인 상태'].astype(str).replace(marry_mapping)"
      ],
      "metadata": {
        "id": "hUFDI0rvxFsW"
      },
      "execution_count": null,
      "outputs": []
    },
    {
      "cell_type": "code",
      "source": [
        "data['혼인 상태'].unique()"
      ],
      "metadata": {
        "colab": {
          "base_uri": "https://localhost:8080/"
        },
        "id": "6BS4H8SYyf8X",
        "outputId": "148b789b-789f-4f82-c9ce-116dd074eb72"
      },
      "execution_count": null,
      "outputs": [
        {
          "output_type": "execute_result",
          "data": {
            "text/plain": [
              "array(['0', '1'], dtype=object)"
            ]
          },
          "metadata": {},
          "execution_count": 60
        }
      ]
    },
    {
      "cell_type": "code",
      "source": [
        "# 엑셀 파일로 저장\n",
        "data.to_excel('/content/variable.xlsx', index=False)"
      ],
      "metadata": {
        "id": "d2q1JISRyhrC"
      },
      "execution_count": null,
      "outputs": []
    },
    {
      "cell_type": "code",
      "source": [],
      "metadata": {
        "id": "kar2TR9P2O4D"
      },
      "execution_count": null,
      "outputs": []
    }
  ]
}